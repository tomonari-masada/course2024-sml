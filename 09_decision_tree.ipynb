{
  "nbformat": 4,
  "nbformat_minor": 0,
  "metadata": {
    "colab": {
      "provenance": [],
      "authorship_tag": "ABX9TyO1quJivBJf5Frr49w4EzWG",
      "include_colab_link": true
    },
    "kernelspec": {
      "name": "python3",
      "display_name": "Python 3"
    },
    "accelerator": "GPU"
  },
  "cells": [
    {
      "cell_type": "markdown",
      "metadata": {
        "id": "view-in-github",
        "colab_type": "text"
      },
      "source": [
        "<a href=\"https://colab.research.google.com/github/tomonari-masada/course2024-sml/blob/main/09_decision_tree.ipynb\" target=\"_parent\"><img src=\"https://colab.research.google.com/assets/colab-badge.svg\" alt=\"Open In Colab\"/></a>"
      ]
    },
    {
      "cell_type": "markdown",
      "metadata": {
        "id": "gaQ8dO7PH-Ie"
      },
      "source": [
        "# Tree-based methodsによる住宅価格の予測\n",
        "\n",
        "* 前に使ったCalifornia housing datasetを使う。\n",
        "\n",
        "  * scikit-learnからロードできるバージョンは、前処理が済んだキレイなデータなので、ここでは使わない。"
      ]
    },
    {
      "cell_type": "markdown",
      "source": [
        "* 今回は、以下の解説を参考にします。\n",
        "  * https://scikit-learn.org/stable/auto_examples/impute/plot_missing_values.html\n",
        "* 特に、`sklearn.pipeline.make_pipeline`を用いることで、コードを簡素化します。"
      ],
      "metadata": {
        "id": "KuAvphV8_sau"
      }
    },
    {
      "cell_type": "code",
      "metadata": {
        "id": "sTQwl0oyWRdJ"
      },
      "source": [
        "import numpy as np\n",
        "from scipy import stats, special\n",
        "import pandas as pd\n",
        "import matplotlib.pyplot as plt\n",
        "import seaborn as sns\n",
        "from sklearn.tree import DecisionTreeRegressor\n",
        "from sklearn import metrics\n",
        "from sklearn.metrics import mean_squared_error\n",
        "from sklearn.model_selection import train_test_split, cross_val_score\n",
        "from sklearn.impute import SimpleImputer, KNNImputer\n",
        "from sklearn.model_selection import cross_val_score\n",
        "from sklearn.pipeline import make_pipeline\n",
        "\n",
        "%config InlineBackend.figure_format = \"retina\""
      ],
      "execution_count": null,
      "outputs": []
    },
    {
      "cell_type": "markdown",
      "metadata": {
        "id": "B0ueH1eZQkV0"
      },
      "source": [
        "## データセットを取得"
      ]
    },
    {
      "cell_type": "code",
      "metadata": {
        "id": "g-8ombKtQkBM"
      },
      "source": [
        "!wget https://raw.githubusercontent.com/ageron/handson-ml/master/datasets/housing/housing.tgz\n",
        "!tar zxvf housing.tgz"
      ],
      "execution_count": null,
      "outputs": []
    },
    {
      "cell_type": "code",
      "metadata": {
        "id": "Ewm8TpCMQj4X"
      },
      "source": [
        "df = pd.read_csv(\"housing.csv\")"
      ],
      "execution_count": null,
      "outputs": []
    },
    {
      "cell_type": "code",
      "source": [
        "df.head()"
      ],
      "metadata": {
        "id": "38Ph_DxZzbQH"
      },
      "execution_count": null,
      "outputs": []
    },
    {
      "cell_type": "code",
      "metadata": {
        "id": "OGJP-5qhNnoz"
      },
      "source": [
        "df.info()"
      ],
      "execution_count": null,
      "outputs": []
    },
    {
      "cell_type": "code",
      "metadata": {
        "id": "UUcTzYmBNp4g"
      },
      "source": [
        "df_onehot = pd.get_dummies(df, dtype=int)"
      ],
      "execution_count": null,
      "outputs": []
    },
    {
      "cell_type": "code",
      "metadata": {
        "id": "7C9hG0DIQ6dx"
      },
      "source": [
        "df_onehot.head()"
      ],
      "execution_count": null,
      "outputs": []
    },
    {
      "cell_type": "code",
      "metadata": {
        "id": "FkOo-YDuTg5l"
      },
      "source": [
        "df_onehot.info()"
      ],
      "execution_count": null,
      "outputs": []
    },
    {
      "cell_type": "markdown",
      "metadata": {
        "id": "8ldVQfK_V_Dk"
      },
      "source": [
        "* 説明変数と目的変数を分ける\n",
        "\n"
      ]
    },
    {
      "cell_type": "code",
      "metadata": {
        "id": "M28tUOwREhEe"
      },
      "source": [
        "X = df_onehot.drop('median_house_value', axis=1)\n",
        "y = df_onehot[\"median_house_value\"].copy()"
      ],
      "execution_count": null,
      "outputs": []
    },
    {
      "cell_type": "markdown",
      "metadata": {
        "id": "jJVevWKDFPI2"
      },
      "source": [
        "## 評価実験のための準備"
      ]
    },
    {
      "cell_type": "markdown",
      "metadata": {
        "id": "WTlCKf5DYPG3"
      },
      "source": [
        "* 今回は交差検証をおこなうので、テストデータだけを切り分けておく。\n",
        " * 交差検証には`sklearn.model_selection.cross_val_score`を使う。"
      ]
    },
    {
      "cell_type": "code",
      "metadata": {
        "id": "HPLyJcSqEu6i"
      },
      "source": [
        "X_train, X_test, y_train, y_test = train_test_split(X, y, test_size=0.2, random_state=1234)"
      ],
      "execution_count": null,
      "outputs": []
    },
    {
      "cell_type": "code",
      "source": [
        "X_train.info()"
      ],
      "metadata": {
        "id": "hC4JifJk-wiJ"
      },
      "execution_count": null,
      "outputs": []
    },
    {
      "cell_type": "markdown",
      "source": [
        "* 欠測箇所がある。\n",
        "  * 今回は、後で、訓練データの中央値で埋めることにする。"
      ],
      "metadata": {
        "id": "04gda49RN4xs"
      }
    },
    {
      "cell_type": "code",
      "source": [
        "X_test.info()"
      ],
      "metadata": {
        "id": "Pjq8qXT0-uDP"
      },
      "execution_count": null,
      "outputs": []
    },
    {
      "cell_type": "markdown",
      "metadata": {
        "id": "WfsOy4znNBHv"
      },
      "source": [
        "## 前処理"
      ]
    },
    {
      "cell_type": "markdown",
      "metadata": {
        "id": "I4pdZ6B6X15P"
      },
      "source": [
        "* どのような前処理をおこなうかは、お任せします。"
      ]
    },
    {
      "cell_type": "code",
      "metadata": {
        "id": "jcWCkbkTNwZi"
      },
      "source": [
        "X_train.hist(bins=50, figsize=(15,12));"
      ],
      "execution_count": null,
      "outputs": []
    },
    {
      "cell_type": "markdown",
      "metadata": {
        "id": "Np16Vy-zNTva"
      },
      "source": [
        "## 決定木をチューニング\n",
        "\n",
        "* 木の深さ（領域を何分割するか）をチューニングする。"
      ]
    },
    {
      "cell_type": "markdown",
      "metadata": {
        "id": "oTAh6vJ4WpiV"
      },
      "source": [
        "* cross_val_scoreで使える評価尺度一覧をチェックする。\n",
        " * いずれも、「値が大きいほど良い」という評価尺度になっている。\n",
        " * 今回はRMSEで評価したいが、これは「値が小さいほど良い」という評価尺度である。\n",
        " * そこで、一覧の中にある'neg_root_mean_squared_error'に、マイナスをつけたものを、使う。\n",
        " * これで前の結果と比較できるようになる。\n",
        "\n"
      ]
    },
    {
      "cell_type": "code",
      "metadata": {
        "id": "2b17N7AQwQ2r"
      },
      "source": [
        "sorted(metrics.SCORERS.keys())"
      ],
      "execution_count": null,
      "outputs": []
    },
    {
      "cell_type": "markdown",
      "source": [
        "* 交差検証を、欠損値を埋めつつ実行するために、ヘルパ関数を定義しておく。"
      ],
      "metadata": {
        "id": "sKlv6xgzBBP2"
      }
    },
    {
      "cell_type": "code",
      "source": [
        "def get_scores(imputer, regressor, X_missing, y_missing, cv=10):\n",
        "  estimator = make_pipeline(imputer, regressor)\n",
        "  impute_scores = cross_val_score(\n",
        "      estimator,\n",
        "      X_missing, y_missing,\n",
        "      scoring=\"neg_root_mean_squared_error\",\n",
        "      cv=cv,\n",
        "      )\n",
        "  return impute_scores"
      ],
      "metadata": {
        "id": "jfFPJuAxA64M"
      },
      "execution_count": null,
      "outputs": []
    },
    {
      "cell_type": "markdown",
      "metadata": {
        "id": "7-1U0vm9WwoL"
      },
      "source": [
        "* 10-fold cross validationを実施\n",
        " * 木の深さは3から20まで変える。\n",
        " * 評価尺度はRMSE。\n",
        "\n"
      ]
    },
    {
      "cell_type": "code",
      "metadata": {
        "id": "be12cT0KPyrg"
      },
      "source": [
        "best_depth = 0\n",
        "best_score = 0.0\n",
        "for i in range(3, 16):\n",
        "  reg = DecisionTreeRegressor(max_depth=i, random_state=123)\n",
        "  imp = SimpleImputer(missing_values=np.nan, strategy=\"median\")\n",
        "  scores = get_scores(imp, reg, X_train, y_train, cv=10)\n",
        "  temp_score = - scores.mean()\n",
        "  if best_depth == 0 or best_score > temp_score:\n",
        "    best_depth = i\n",
        "    best_score = temp_score\n",
        "  print(f\"depth {i}: {temp_score:.2f}\")\n",
        "print('-'*64)\n",
        "print(f\"best depth {best_depth}: {best_score:.2f}\")"
      ],
      "execution_count": null,
      "outputs": []
    },
    {
      "cell_type": "markdown",
      "metadata": {
        "id": "mILiouL2XE6_"
      },
      "source": [
        "* 最適な木の深さを使って訓練データ全体で学習をやり直し、テストデータで評価。\n",
        "  * テストセットでimputationするときは、訓練データから得た統計量を使うこと!\n",
        "  * テストセット内で平均や中央値などの統計量を求めるのはNGです。\n",
        "\n"
      ]
    },
    {
      "cell_type": "code",
      "metadata": {
        "id": "fPy58KHFXJR-"
      },
      "source": [
        "reg = DecisionTreeRegressor(max_depth=best_depth, random_state=123)\n",
        "imp = SimpleImputer(missing_values=np.nan, strategy=\"median\")\n",
        "reg.fit(imp.fit_transform(X_train), y_train)\n",
        "y_test_pred = reg.predict(imp.transform(X_test))\n",
        "rmse = mean_squared_error(y_test, y_test_pred, squared=False)\n",
        "print(f\"test RMSE: {rmse:.2f}\")"
      ],
      "execution_count": null,
      "outputs": []
    },
    {
      "cell_type": "markdown",
      "metadata": {
        "id": "GaLWv6KThGkW"
      },
      "source": [
        "* これが今回のベースラインです。\n",
        "* この値を改善することを試みてください。"
      ]
    },
    {
      "cell_type": "markdown",
      "metadata": {
        "id": "2PT_IGbQLCis"
      },
      "source": [
        "# 課題\n",
        "\n",
        "* RMSEによって評価される予測性能を、良くして下さい\n",
        "* test setとそれ以外の部分の分割は、変えないでください\n",
        " * test set以外の部分をどう使うかは、自由です\n",
        " * 交差検証の方法は何でもよいです。\n",
        "* 決定木ベースの手法やその系統の手法なら、何を使ってもいいです。\n",
        "* test setでのRMSEによる評価は、最後に一回おこなうだけです"
      ]
    },
    {
      "cell_type": "markdown",
      "metadata": {
        "id": "roLZXQReY2ZW"
      },
      "source": [
        "# XGBoostを使ってみる\n",
        "\n"
      ]
    },
    {
      "cell_type": "code",
      "metadata": {
        "id": "QvEWe5j80MO3"
      },
      "source": [
        "import xgboost as xgb"
      ],
      "execution_count": null,
      "outputs": []
    },
    {
      "cell_type": "markdown",
      "metadata": {
        "id": "EtolE-WEZtpK"
      },
      "source": [
        "* 10-fold cross validationを実施\n",
        " * 実行時間はsklearnのDecisionTreeRegressorよりも長め。\n"
      ]
    },
    {
      "cell_type": "code",
      "metadata": {
        "id": "31-tQx4I0VET"
      },
      "source": [
        "for i in range(6, 14):\n",
        "  reg = xgb.XGBRegressor(objective =\"reg:squarederror\", max_depth=i, random_state=123)\n",
        "  imp = SimpleImputer(missing_values=np.nan, strategy=\"median\")\n",
        "  scores = get_scores(imp, reg, X_train, y_train, cv=10)\n",
        "  print(f\"depth {i}: {- scores.mean():.2f}\")"
      ],
      "execution_count": null,
      "outputs": []
    },
    {
      "cell_type": "markdown",
      "metadata": {
        "id": "W74IrUAMaP2H"
      },
      "source": [
        "* 最適な木の深さを使って訓練データ全体で学習をやり直し、テストデータで評価。\n",
        "\n"
      ]
    },
    {
      "cell_type": "code",
      "metadata": {
        "id": "VeOJJwDjaQkn"
      },
      "source": [
        "# 各自、実践してください。"
      ],
      "execution_count": null,
      "outputs": []
    },
    {
      "cell_type": "markdown",
      "metadata": {
        "id": "bIAMBKPldeLI"
      },
      "source": [
        "# CatBoostを使ってみる"
      ]
    },
    {
      "cell_type": "code",
      "metadata": {
        "id": "gAtyJXl2HqLN"
      },
      "source": [
        "!pip install catboost"
      ],
      "execution_count": null,
      "outputs": []
    },
    {
      "cell_type": "code",
      "metadata": {
        "id": "dUWchROwIblG"
      },
      "source": [
        "from catboost import CatBoostRegressor"
      ],
      "execution_count": null,
      "outputs": []
    },
    {
      "cell_type": "code",
      "metadata": {
        "id": "9Q2NFxDHIzaf"
      },
      "source": [
        "for i in range(6, 14):\n",
        "  reg = CatBoostRegressor(iterations=200, depth=i, random_seed=123, logging_level=\"Silent\")\n",
        "  imp = SimpleImputer(missing_values=np.nan, strategy=\"median\")\n",
        "  scores = get_scores(imp, reg, X_train, y_train, cv=10)\n",
        "  print(f\"depth {i}: {- scores.mean():.2f}\")"
      ],
      "execution_count": null,
      "outputs": []
    },
    {
      "cell_type": "markdown",
      "metadata": {
        "id": "NWkz2rOqZ3VI"
      },
      "source": [
        "* 最適な木の深さを使って訓練データ全体で学習をやり直し、テストデータで評価。"
      ]
    },
    {
      "cell_type": "code",
      "metadata": {
        "id": "KrXKcqa00f88"
      },
      "source": [
        "# 各自、実践してください。\n"
      ],
      "execution_count": null,
      "outputs": []
    },
    {
      "cell_type": "markdown",
      "source": [
        "* 他に、決定木に類するモデル、gradient boosting系のモデルを見つけて、色々試してみてください。\n",
        "  * それぞれのモデルのハイパーパラメータをチューニングする。\n",
        "  * チューニングしたハイパーパラメータを使って、テストセットでの評価値を得る。\n",
        "  * どの手法が、テストセットで最も良い評価値を与えたか、比較する。"
      ],
      "metadata": {
        "id": "yi_WvAT8PAJV"
      }
    },
    {
      "cell_type": "code",
      "source": [],
      "metadata": {
        "id": "fyBigKX0PJSp"
      },
      "execution_count": null,
      "outputs": []
    }
  ]
}