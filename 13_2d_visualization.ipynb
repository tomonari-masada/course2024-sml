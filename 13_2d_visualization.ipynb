{
  "nbformat": 4,
  "nbformat_minor": 0,
  "metadata": {
    "colab": {
      "provenance": [],
      "authorship_tag": "ABX9TyMYLQTRoq680KSQ5IY+SYCY",
      "include_colab_link": true
    },
    "kernelspec": {
      "name": "python3",
      "display_name": "Python 3"
    },
    "language_info": {
      "name": "python"
    }
  },
  "cells": [
    {
      "cell_type": "markdown",
      "metadata": {
        "id": "view-in-github",
        "colab_type": "text"
      },
      "source": [
        "<a href=\"https://colab.research.google.com/github/tomonari-masada/course2024-sml/blob/main/13_2d_visualization.ipynb\" target=\"_parent\"><img src=\"https://colab.research.google.com/assets/colab-badge.svg\" alt=\"Open In Colab\"/></a>"
      ]
    },
    {
      "cell_type": "markdown",
      "source": [
        "# 2次元の可視化"
      ],
      "metadata": {
        "id": "xvErBMKFN03i"
      }
    },
    {
      "cell_type": "markdown",
      "source": [
        "* 2次元の可視化は、もとは高次元のデータセットの次元を、2次元へと圧縮することである。\n",
        "  * 前回の演習をふまえると・・・\n",
        "  * 2次元のような非常に低次元の空間への次元削減は・・・\n",
        "  * それほど自明なデータ処理ではなさそうだが・・・"
      ],
      "metadata": {
        "id": "MTpJTExAerm5"
      }
    },
    {
      "cell_type": "markdown",
      "source": [
        "## 準備"
      ],
      "metadata": {
        "id": "w7BtTTuqRr9A"
      }
    },
    {
      "cell_type": "markdown",
      "source": [
        "* UMAPだけ、scikit-learnに実装されていない。"
      ],
      "metadata": {
        "id": "817OqOP5fQeU"
      }
    },
    {
      "cell_type": "code",
      "source": [
        "!pip install umap-learn"
      ],
      "metadata": {
        "id": "XblDY6moI1sl"
      },
      "execution_count": null,
      "outputs": []
    },
    {
      "cell_type": "code",
      "source": [
        "import numpy as np\n",
        "import matplotlib.pyplot as plt\n",
        "from sklearn import manifold, datasets\n",
        "from sklearn.decomposition import PCA\n",
        "from sklearn.metrics.pairwise import euclidean_distances, manhattan_distances, cosine_distances\n",
        "import seaborn as sns\n",
        "from umap import UMAP\n",
        "\n",
        "%config InlineBackend.figure_format = \"retina\""
      ],
      "metadata": {
        "id": "v29TjqUEIkiq"
      },
      "execution_count": null,
      "outputs": []
    },
    {
      "cell_type": "markdown",
      "source": [
        "## データセット\n",
        "* 今回はdigits dataを題材として使う。"
      ],
      "metadata": {
        "id": "Z_dV3oGiRuIE"
      }
    },
    {
      "cell_type": "code",
      "source": [
        "digits = datasets.load_digits()"
      ],
      "metadata": {
        "id": "xlBb9misJRae"
      },
      "execution_count": null,
      "outputs": []
    },
    {
      "cell_type": "code",
      "source": [
        "digits.data.shape"
      ],
      "metadata": {
        "id": "mS6sJB0hKMMd"
      },
      "execution_count": null,
      "outputs": []
    },
    {
      "cell_type": "code",
      "source": [
        "digits.target.shape"
      ],
      "metadata": {
        "id": "o68iM0xDKitu"
      },
      "execution_count": null,
      "outputs": []
    },
    {
      "cell_type": "code",
      "source": [
        "plt.imshow(digits.data[0].reshape(8, -1), cmap=\"gray\");"
      ],
      "metadata": {
        "id": "wIif399BOBwf"
      },
      "execution_count": null,
      "outputs": []
    },
    {
      "cell_type": "code",
      "source": [
        "digits.target[:20]"
      ],
      "metadata": {
        "id": "0D4spdndZDSQ"
      },
      "execution_count": null,
      "outputs": []
    },
    {
      "cell_type": "markdown",
      "source": [
        "## あえてデータセットにnoisyなインスタンスを追加する"
      ],
      "metadata": {
        "id": "iSXzRs-Eg4e0"
      }
    },
    {
      "cell_type": "code",
      "source": [
        "(digits.target == 0).sum()"
      ],
      "metadata": {
        "id": "GkiXm0FGglh6"
      },
      "execution_count": null,
      "outputs": []
    },
    {
      "cell_type": "code",
      "source": [
        "digits.data[0]"
      ],
      "metadata": {
        "id": "H4EO1DCcguDo"
      },
      "execution_count": null,
      "outputs": []
    },
    {
      "cell_type": "code",
      "source": [
        "np.random.randint(0, high=15, size=64)"
      ],
      "metadata": {
        "id": "d0hQbpWuhIRZ"
      },
      "execution_count": null,
      "outputs": []
    },
    {
      "cell_type": "code",
      "source": [
        "plt.imshow(np.random.randint(0, high=15, size=64).reshape(8, -1), cmap=\"gray\");"
      ],
      "metadata": {
        "id": "Hq9mq6bEg3gd"
      },
      "execution_count": null,
      "outputs": []
    },
    {
      "cell_type": "code",
      "source": [
        "n_noisy_images = 178\n",
        "noisy_images = np.random.randint(0, high=15, size=(n_noisy_images, 64))\n",
        "noisy_images.shape"
      ],
      "metadata": {
        "id": "4yLSmQ02hQpA"
      },
      "execution_count": null,
      "outputs": []
    },
    {
      "cell_type": "code",
      "source": [
        "np.full(n_noisy_images, 10)"
      ],
      "metadata": {
        "id": "zx688kEniBEO"
      },
      "execution_count": null,
      "outputs": []
    },
    {
      "cell_type": "code",
      "source": [
        "np.concatenate([digits.data, noisy_images]).shape"
      ],
      "metadata": {
        "id": "dnWB24tShZv_"
      },
      "execution_count": null,
      "outputs": []
    },
    {
      "cell_type": "code",
      "source": [
        "np.concatenate([digits.target, np.full(n_noisy_images, 10)]).shape"
      ],
      "metadata": {
        "id": "J9OMc6Qchy3r"
      },
      "execution_count": null,
      "outputs": []
    },
    {
      "cell_type": "code",
      "source": [
        "digits.data = np.concatenate([digits.data, noisy_images])\n",
        "digits.target = np.concatenate([digits.target, np.full(n_noisy_images, 10)])"
      ],
      "metadata": {
        "id": "OGBnnwFQhvLb"
      },
      "execution_count": null,
      "outputs": []
    },
    {
      "cell_type": "markdown",
      "source": [
        "## 可視化のためのヘルパ関数\n",
        "* もっと凝った可視化をしたいなら、下記を参照。\n",
        " * https://scikit-learn.org/stable/auto_examples/manifold/plot_lle_digits.html#sphx-glr-auto-examples-manifold-plot-lle-digits-py"
      ],
      "metadata": {
        "id": "KRKbsETQYubJ"
      }
    },
    {
      "cell_type": "code",
      "source": [
        "def scatter_plot(embedding, target, cmap=plt.get_cmap(\"tab20\"), ax=None):\n",
        "  for color in np.unique(target):\n",
        "    indices = (target == color)\n",
        "    if ax is None:\n",
        "      plt.scatter(embedding[indices, 0], embedding[indices, 1], label=color, color=cmap(color), s=3, alpha=0.5)\n",
        "    else:\n",
        "      ax.scatter(embedding[indices, 0], embedding[indices, 1], label=color, color=cmap(color), s=3, alpha=0.5)"
      ],
      "metadata": {
        "id": "aabgw_zpTq6D"
      },
      "execution_count": null,
      "outputs": []
    },
    {
      "cell_type": "markdown",
      "source": [
        "## PCAによる可視化"
      ],
      "metadata": {
        "id": "BoWD5YbGgOE3"
      }
    },
    {
      "cell_type": "code",
      "source": [
        "pca = PCA(10)\n",
        "embedding = pca.fit_transform(digits.data)"
      ],
      "metadata": {
        "id": "IoUdG3KngH-0"
      },
      "execution_count": null,
      "outputs": []
    },
    {
      "cell_type": "code",
      "source": [
        "fig, ax = plt.subplots(figsize=(6, 5))\n",
        "scatter_plot(embedding, digits.target)\n",
        "plt.setp(ax, xticks=[], yticks=[])\n",
        "plt.legend()\n",
        "plt.title(\"digits data embedded into two dimensions by PCA\");"
      ],
      "metadata": {
        "id": "bnBiUOCvgPhw"
      },
      "execution_count": null,
      "outputs": []
    },
    {
      "cell_type": "markdown",
      "source": [
        "## UMAPによる可視化\n",
        "* https://umap-learn.readthedocs.io/en/latest/parameters.html\n"
      ],
      "metadata": {
        "id": "Xpi8XyJ1QSNp"
      }
    },
    {
      "cell_type": "markdown",
      "source": [
        "* どんな可視化ツールにも、調整できるパラメータがある。\n",
        "* UMAPの場合は・・・\n",
        "  * パラメータ`n_neighbors`を変えると可視化がどう変わるか。\n",
        "  * パラメータ`min_dist`を変えると可視化がどう変わるか。\n"
      ],
      "metadata": {
        "id": "1LNTIcfBeBW1"
      }
    },
    {
      "cell_type": "markdown",
      "source": [
        "### デフォルトの設定で可視化"
      ],
      "metadata": {
        "id": "7GrKDzJwRwx6"
      }
    },
    {
      "cell_type": "code",
      "source": [
        "%%time\n",
        "reducer = UMAP(random_state=42)\n",
        "embedding = reducer.fit_transform(digits.data)"
      ],
      "metadata": {
        "id": "3-nlThHEJ-fZ"
      },
      "execution_count": null,
      "outputs": []
    },
    {
      "cell_type": "code",
      "source": [
        "fig, ax = plt.subplots(figsize=(6, 5))\n",
        "scatter_plot(embedding, digits.target)\n",
        "plt.setp(ax, xticks=[], yticks=[])\n",
        "plt.legend()\n",
        "plt.title(\"digits data embedded into two dimensions by UMAP\");"
      ],
      "metadata": {
        "id": "nSyI4Vt9SsLc"
      },
      "execution_count": null,
      "outputs": []
    },
    {
      "cell_type": "markdown",
      "source": [
        "* ノイズ画像なしだと？"
      ],
      "metadata": {
        "id": "uUBAk-fvkcLQ"
      }
    },
    {
      "cell_type": "code",
      "source": [
        "digits.data[:-n_noisy_images,:].shape"
      ],
      "metadata": {
        "id": "x9Rn19-5kmg8"
      },
      "execution_count": null,
      "outputs": []
    },
    {
      "cell_type": "code",
      "source": [
        "digits.target[:-n_noisy_images].shape"
      ],
      "metadata": {
        "id": "7d6r292iks7g"
      },
      "execution_count": null,
      "outputs": []
    },
    {
      "cell_type": "code",
      "source": [
        "%%time\n",
        "reducer = UMAP(random_state=42)\n",
        "embedding = reducer.fit_transform(digits.data[:-n_noisy_images,:])"
      ],
      "metadata": {
        "id": "_qvHkGgJk8dx"
      },
      "execution_count": null,
      "outputs": []
    },
    {
      "cell_type": "code",
      "source": [
        "fig, ax = plt.subplots(figsize=(6, 5))\n",
        "scatter_plot(embedding, digits.target[:-n_noisy_images])\n",
        "plt.setp(ax, xticks=[], yticks=[])\n",
        "plt.legend()\n",
        "plt.title(\"digits data embedded into two dimensions by UMAP\");"
      ],
      "metadata": {
        "id": "XlLLIrs_kbqq"
      },
      "execution_count": null,
      "outputs": []
    },
    {
      "cell_type": "markdown",
      "source": [
        "### `n_neighbors`を変更する\n",
        "* デフォルトの値は15"
      ],
      "metadata": {
        "id": "eOaugMoOQ-Wx"
      }
    },
    {
      "cell_type": "code",
      "source": [
        "def draw_umap(n_neighbors=15, min_dist=0.1, title=\"\"):\n",
        "  reducer = UMAP(n_neighbors=n_neighbors, min_dist=min_dist, random_state=42)\n",
        "  u = reducer.fit_transform(digits.data)\n",
        "  fig = plt.figure()\n",
        "  ax = fig.add_subplot(111)\n",
        "  scatter_plot(u, digits.target, ax=ax)\n",
        "  plt.setp(ax, xticks=[], yticks=[])\n",
        "  #plt.legend()\n",
        "  plt.title(title, fontsize=15);"
      ],
      "metadata": {
        "id": "tt0K2vXeJB6F"
      },
      "execution_count": null,
      "outputs": []
    },
    {
      "cell_type": "code",
      "source": [
        "for n in (5, 10, 20, 50, 100, 200):\n",
        "  title = f\"n_neighbors = {n}\"\n",
        "  print(title)\n",
        "  draw_umap(n_neighbors=n, title=title)"
      ],
      "metadata": {
        "id": "cefaX3U2OnCE"
      },
      "execution_count": null,
      "outputs": []
    },
    {
      "cell_type": "markdown",
      "source": [
        "### `min_dist`を変更する\n",
        "* デフォルトの値は0.1"
      ],
      "metadata": {
        "id": "gXnC81G8RFoQ"
      }
    },
    {
      "cell_type": "code",
      "source": [
        "for d in (0.0, 0.1, 0.25, 0.5, 0.8, 0.99):\n",
        "  title = f\"min_dist = {d}\"\n",
        "  print(title)\n",
        "  draw_umap(min_dist=d, title=title)"
      ],
      "metadata": {
        "id": "nrBF_eNZOqE1"
      },
      "execution_count": null,
      "outputs": []
    },
    {
      "cell_type": "markdown",
      "source": [
        "## t-SNEによる可視化\n",
        "* https://scikit-learn.org/stable/auto_examples/manifold/plot_t_sne_perplexity.html\n",
        " * パラメータ`perplexity`を変えると可視化がどう変わるか。"
      ],
      "metadata": {
        "id": "QGsguxmVXjmq"
      }
    },
    {
      "cell_type": "markdown",
      "source": [
        "### デフォルトの設定で可視化"
      ],
      "metadata": {
        "id": "CG3DPaVAYdu5"
      }
    },
    {
      "cell_type": "code",
      "source": [
        "%%time\n",
        "reducer = manifold.TSNE(random_state=42)\n",
        "embedding = reducer.fit_transform(digits.data)"
      ],
      "metadata": {
        "id": "rZ49DDBgWIbW"
      },
      "execution_count": null,
      "outputs": []
    },
    {
      "cell_type": "code",
      "source": [
        "fig, ax = plt.subplots(figsize=(6, 5))\n",
        "scatter_plot(embedding, digits.target)\n",
        "plt.setp(ax, xticks=[], yticks=[])\n",
        "plt.legend()\n",
        "plt.title(\"digits data embedded into two dimensions by t-SNE\");"
      ],
      "metadata": {
        "id": "DOIk0EThWr2k"
      },
      "execution_count": null,
      "outputs": []
    },
    {
      "cell_type": "markdown",
      "source": [
        "### `perplexity`を変更する"
      ],
      "metadata": {
        "id": "_wb0S5dIYk7L"
      }
    },
    {
      "cell_type": "code",
      "source": [
        "def draw_tsne(perplexity=30.0, title=\"\"):\n",
        "  reducer = manifold.TSNE(perplexity=perplexity, random_state=42)\n",
        "  u = reducer.fit_transform(digits.data)\n",
        "  fig = plt.figure()\n",
        "  ax = fig.add_subplot(111)\n",
        "  scatter_plot(u, digits.target, ax=ax)\n",
        "  plt.setp(ax, xticks=[], yticks=[])\n",
        "  plt.legend()\n",
        "  plt.title(title, fontsize=15);"
      ],
      "metadata": {
        "id": "R5hfhA1zXESd"
      },
      "execution_count": null,
      "outputs": []
    },
    {
      "cell_type": "code",
      "source": [
        "for p in (2, 5, 10, 20, 50, 100):\n",
        "  title = f\"perplexity = {p}\"\n",
        "  print(title)\n",
        "  draw_tsne(perplexity=p, title=title)"
      ],
      "metadata": {
        "id": "6E6X8q2fXW3y"
      },
      "execution_count": null,
      "outputs": []
    },
    {
      "cell_type": "markdown",
      "source": [
        "## MDS"
      ],
      "metadata": {
        "id": "3vWEd_EVTpRu"
      }
    },
    {
      "cell_type": "markdown",
      "source": [
        "### デフォルトの設定で可視化"
      ],
      "metadata": {
        "id": "IhMSql9_T6I5"
      }
    },
    {
      "cell_type": "code",
      "source": [
        "%%time\n",
        "reducer = manifold.MDS(normalized_stress=False, random_state=42)\n",
        "embedding = reducer.fit_transform(digits.data)"
      ],
      "metadata": {
        "id": "Mi4FKVCST46w"
      },
      "execution_count": null,
      "outputs": []
    },
    {
      "cell_type": "code",
      "source": [
        "fig, ax = plt.subplots(figsize=(6, 5))\n",
        "scatter_plot(embedding, digits.target)\n",
        "plt.setp(ax, xticks=[], yticks=[])\n",
        "plt.legend()\n",
        "plt.title(\"digits data embedded into two dimensions by MDS\");"
      ],
      "metadata": {
        "id": "tvsGEhODUPs9"
      },
      "execution_count": null,
      "outputs": []
    },
    {
      "cell_type": "markdown",
      "source": [
        "* epsを変更してみたが、今回のデータセットでは、ほとんど変化が見られなかった。"
      ],
      "metadata": {
        "id": "jRIXioRBk3Ax"
      }
    },
    {
      "cell_type": "markdown",
      "source": [
        "## 考察\n",
        "* それぞれの可視化ツールを、デフォルトの設定で使っても構わないか？\n",
        "* 2次元の可視化において、遠いものは遠いと言っていいか？\n",
        "* 2次元の可視化において、近いものは近いと言っていいか？\n",
        "* 例えば、digits dataに関して、ここまでの可視化を踏まえて、結論して構わないことは、何か？\n"
      ],
      "metadata": {
        "id": "ByPCzltoQtE9"
      }
    },
    {
      "cell_type": "markdown",
      "source": [
        "## 助言\n",
        "* 初めに結論ありきの、\"自分が見たいものだけを見る可視化\"にならないよう、注意しよう。\n",
        "* 最低限、複数の可視化手法を比較し、共通して見られる特徴は何かを確認しよう。"
      ],
      "metadata": {
        "id": "WXaApv1laqlh"
      }
    },
    {
      "cell_type": "code",
      "source": [],
      "metadata": {
        "id": "xvpXfIL1rpaT"
      },
      "execution_count": null,
      "outputs": []
    }
  ]
}