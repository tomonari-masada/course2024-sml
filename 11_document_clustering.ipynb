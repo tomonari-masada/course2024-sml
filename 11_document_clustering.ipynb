{
  "cells": [
    {
      "cell_type": "markdown",
      "metadata": {
        "id": "view-in-github",
        "colab_type": "text"
      },
      "source": [
        "<a href=\"https://colab.research.google.com/github/tomonari-masada/course2024-sml/blob/main/11_document_clustering.ipynb\" target=\"_parent\"><img src=\"https://colab.research.google.com/assets/colab-badge.svg\" alt=\"Open In Colab\"/></a>"
      ]
    },
    {
      "cell_type": "markdown",
      "metadata": {
        "id": "dhzrBYzaPTv1"
      },
      "source": [
        "# クラスタリング\n",
        "* クラスタリングの代表的な手法であるk平均法を使ってみる。"
      ]
    },
    {
      "cell_type": "markdown",
      "metadata": {
        "id": "OhbnmWrLWjNw"
      },
      "source": [
        "## 例題: テキスト・クラスタリング"
      ]
    },
    {
      "cell_type": "markdown",
      "metadata": {
        "id": "ijV8d58-WC_6"
      },
      "source": [
        "* Transformesベースの日本語対応言語モデルを使って、テキストのベクトル表現を得る。\n",
        "  * テキストをベクトルとして表現することを「embedする」と言う。\n",
        "* そして、テキストのembeddingをk平均法でクラスタリングする。"
      ]
    },
    {
      "cell_type": "markdown",
      "metadata": {
        "id": "hb9tmJnoWU6J"
      },
      "source": [
        "* ランタイムのタイプをGPUにしておく。"
      ]
    },
    {
      "cell_type": "markdown",
      "metadata": {
        "id": "hn3VWlDVnXFR"
      },
      "source": [
        "## インストール"
      ]
    },
    {
      "cell_type": "markdown",
      "metadata": {
        "id": "4gdwfzW5nYHd"
      },
      "source": [
        "### spaCyの日本語モデル"
      ]
    },
    {
      "cell_type": "code",
      "execution_count": null,
      "metadata": {
        "id": "IwAN7cUWnS3M"
      },
      "outputs": [],
      "source": [
        "!python -m spacy download ja_core_news_sm"
      ]
    },
    {
      "cell_type": "markdown",
      "metadata": {
        "id": "kl6bBezenbZa"
      },
      "source": [
        "### Hugging Faceのdatasetsライブラリ"
      ]
    },
    {
      "cell_type": "code",
      "execution_count": null,
      "metadata": {
        "id": "8PluefZCf6y7"
      },
      "outputs": [],
      "source": [
        "!pip install datasets"
      ]
    },
    {
      "cell_type": "markdown",
      "metadata": {
        "id": "RyLkN6QuXBWD"
      },
      "source": [
        "### SentenceTransformersライブラリ\n",
        "* テキストの埋め込みを得るために便利なライブラリ。\n",
        "  * https://sbert.net/index.html"
      ]
    },
    {
      "cell_type": "code",
      "execution_count": null,
      "metadata": {
        "id": "xipZgdSGV5-p"
      },
      "outputs": [],
      "source": [
        "!pip install -U sentence-transformers"
      ]
    },
    {
      "cell_type": "markdown",
      "metadata": {
        "id": "-B6jzpgYxDB3"
      },
      "source": [
        "* 日本語対応BERTを使うためのインストール。"
      ]
    },
    {
      "cell_type": "code",
      "execution_count": null,
      "metadata": {
        "id": "K4pd944kBTpm"
      },
      "outputs": [],
      "source": [
        "!pip install fugashi ipadic"
      ]
    },
    {
      "cell_type": "markdown",
      "metadata": {
        "id": "ureiahpCn4Qg"
      },
      "source": [
        "## インポート"
      ]
    },
    {
      "cell_type": "code",
      "execution_count": null,
      "metadata": {
        "id": "x_09KVWCP9Cc"
      },
      "outputs": [],
      "source": [
        "from tqdm.auto import tqdm\n",
        "import collections\n",
        "import numpy as np\n",
        "\n",
        "from sklearn.cluster import KMeans\n",
        "from sklearn.feature_extraction.text import TfidfVectorizer\n",
        "from sklearn.metrics.pairwise import cosine_similarity\n",
        "\n",
        "import spacy\n",
        "\n",
        "from datasets import load_dataset\n",
        "from sentence_transformers import SentenceTransformer"
      ]
    },
    {
      "cell_type": "markdown",
      "metadata": {
        "id": "cTBDLSvzgMuF"
      },
      "source": [
        "## データセット\n",
        "* livedoorニュースコーパスを使う。"
      ]
    },
    {
      "cell_type": "code",
      "execution_count": null,
      "metadata": {
        "id": "PvpTDWbAgFc3"
      },
      "outputs": [],
      "source": [
        "dataset = load_dataset(\"llm-book/livedoor-news-corpus\")"
      ]
    },
    {
      "cell_type": "code",
      "execution_count": null,
      "metadata": {
        "id": "sSW8yUnDjnA4"
      },
      "outputs": [],
      "source": [
        "collections.Counter(dataset[\"train\"][\"category\"])"
      ]
    },
    {
      "cell_type": "code",
      "execution_count": null,
      "metadata": {
        "id": "zSsfXafQlcdm"
      },
      "outputs": [],
      "source": [
        "dataset[\"train\"][\"title\"][0]"
      ]
    },
    {
      "cell_type": "code",
      "execution_count": null,
      "metadata": {
        "id": "_2H7PUHulfsZ"
      },
      "outputs": [],
      "source": [
        "dataset[\"train\"][\"content\"][0]"
      ]
    },
    {
      "cell_type": "markdown",
      "metadata": {
        "id": "-o2yZ06-QQN4"
      },
      "source": [
        "## 日本語BERTによる埋め込み"
      ]
    },
    {
      "cell_type": "markdown",
      "metadata": {
        "id": "L11M2E3ca6_2"
      },
      "source": [
        "* 東北大学が提供している、日本語に対応したBERTを使う。\n",
        "  * https://huggingface.co/tohoku-nlp/bert-base-japanese-char-whole-word-masking"
      ]
    },
    {
      "cell_type": "markdown",
      "metadata": {
        "id": "hmrIJqThZ20F"
      },
      "source": [
        "* SentenceTransformerでの埋め込みについては、下のWebページを参照。\n",
        "  * https://sbert.net/examples/applications/computing-embeddings/README.html"
      ]
    },
    {
      "cell_type": "code",
      "execution_count": null,
      "metadata": {
        "id": "TRCWin9LA5Y7"
      },
      "outputs": [],
      "source": [
        "model = SentenceTransformer(\"tohoku-nlp/bert-base-japanese-char-whole-word-masking\")"
      ]
    },
    {
      "cell_type": "markdown",
      "metadata": {
        "id": "MZ-E1KAFdlj9"
      },
      "source": [
        "* 全タイトルを埋め込む。\n",
        "  * RTX3080搭載PCを使うと5秒以内で終わる。"
      ]
    },
    {
      "cell_type": "code",
      "execution_count": null,
      "metadata": {
        "id": "yewQUXmGCb6G"
      },
      "outputs": [],
      "source": [
        "embeddings = model.encode(dataset[\"train\"][\"title\"], show_progress_bar=True)"
      ]
    },
    {
      "cell_type": "markdown",
      "metadata": {
        "id": "B7AjcVKTEVMo"
      },
      "source": [
        "* 全記事内容を埋め込む。  \n",
        "  * RTX3080搭載PCを使うと1分で終わる。"
      ]
    },
    {
      "cell_type": "code",
      "execution_count": null,
      "metadata": {
        "id": "wRQW-Gx2EVMo"
      },
      "outputs": [],
      "source": [
        "#content_embeddings = model.encode(dataset[\"train\"][\"content\"], show_progress_bar=True)"
      ]
    },
    {
      "cell_type": "markdown",
      "metadata": {
        "id": "SyiMLzsMcz5C"
      },
      "source": [
        "* 埋め込みを保存。"
      ]
    },
    {
      "cell_type": "code",
      "execution_count": null,
      "metadata": {
        "id": "toeI36FNceR_"
      },
      "outputs": [],
      "source": [
        "with open('bert_embeddings.npy', 'wb') as f:\n",
        "  np.save(f, embeddings)"
      ]
    },
    {
      "cell_type": "code",
      "execution_count": null,
      "metadata": {
        "id": "CSQOagHqEVMo"
      },
      "outputs": [],
      "source": [
        "#with open('bert_content_embeddings.npy', 'wb') as f:\n",
        "#  np.save(f, content_embeddings)"
      ]
    },
    {
      "cell_type": "markdown",
      "metadata": {
        "id": "DqbMNNHPc2-F"
      },
      "source": [
        "* 読み込みは以下のようにする。"
      ]
    },
    {
      "cell_type": "code",
      "execution_count": null,
      "metadata": {
        "id": "1sSjKGTScknl"
      },
      "outputs": [],
      "source": [
        "with open('bert_embeddings.npy', 'rb') as f:\n",
        "  embeddings = np.load(f)"
      ]
    },
    {
      "cell_type": "code",
      "execution_count": null,
      "metadata": {
        "id": "KnwfI4i7EVMp"
      },
      "outputs": [],
      "source": [
        "#with open('bert_content_embeddings.npy', 'rb') as f:\n",
        "#  content_embeddings = np.load(f)"
      ]
    },
    {
      "cell_type": "markdown",
      "metadata": {
        "id": "EntA_0wuEVMp"
      },
      "source": [
        "## クラスタのラベリングに使う単語の抽出\n",
        "* ラベルとして使う単語を形態素解析によって抽出する。"
      ]
    },
    {
      "cell_type": "code",
      "execution_count": null,
      "metadata": {
        "id": "2JKK34DGmVYP"
      },
      "outputs": [],
      "source": [
        "nlp = spacy.load(\"ja_core_news_sm\")\n",
        "corpus = []\n",
        "for text in tqdm(dataset[\"train\"][\"title\"]):\n",
        "  corpus.append(\" \".join([token.lemma_ for token in nlp(text)]))"
      ]
    },
    {
      "cell_type": "markdown",
      "metadata": {
        "id": "WWmaRgolEVMp"
      },
      "source": [
        "* scikit-learnでTF-IDFを計算する。\n",
        "* `TfidfVectorizer`の`min_df`パラメータは適当に調節する。\n",
        "  * クラスタのラベリングに向かないマイナーな単語が含まれないようにする。"
      ]
    },
    {
      "cell_type": "code",
      "execution_count": null,
      "metadata": {
        "id": "MOihcuMrlvMn"
      },
      "outputs": [],
      "source": [
        "vectorizer = TfidfVectorizer(min_df=10)\n",
        "X_train = vectorizer.fit_transform(corpus).toarray()\n",
        "vocab = np.array(vectorizer.get_feature_names_out())"
      ]
    },
    {
      "cell_type": "code",
      "execution_count": null,
      "metadata": {
        "id": "9c0q5G0EmDl7"
      },
      "outputs": [],
      "source": [
        "vocab.size"
      ]
    },
    {
      "cell_type": "code",
      "execution_count": null,
      "metadata": {
        "id": "db6qnSlNEVMs"
      },
      "outputs": [],
      "source": [
        "print(list(vocab))"
      ]
    },
    {
      "cell_type": "markdown",
      "metadata": {
        "id": "Tpz7qe2dEVMs"
      },
      "source": [
        "## ラベリング用単語の埋め込み"
      ]
    },
    {
      "cell_type": "markdown",
      "metadata": {
        "id": "XwNXHtnQEVMt"
      },
      "source": [
        "* その単語を含むテキストの埋め込みベクトルの加重平均を求める。\n",
        "  * 重みはTF-IDFの値を元に定める。"
      ]
    },
    {
      "cell_type": "code",
      "execution_count": null,
      "metadata": {
        "id": "yxYtetYvEVMt"
      },
      "outputs": [],
      "source": [
        "text_weights = X_train / X_train.sum(0)"
      ]
    },
    {
      "cell_type": "code",
      "execution_count": null,
      "metadata": {
        "id": "vFXVOW-zEVMt"
      },
      "outputs": [],
      "source": [
        "vocab_embeddings = np.dot(text_weights.T, embeddings)"
      ]
    },
    {
      "cell_type": "markdown",
      "metadata": {
        "id": "jDzUNmnaMaUv"
      },
      "source": [
        "## 単語埋め込みのクラスタリング\n",
        "\n"
      ]
    },
    {
      "cell_type": "markdown",
      "metadata": {
        "id": "WO9p70lpNjQ_"
      },
      "source": [
        "### k-平均法によるクラスタリング"
      ]
    },
    {
      "cell_type": "code",
      "execution_count": null,
      "metadata": {
        "id": "zyXb2eRFOo3i"
      },
      "outputs": [],
      "source": [
        "n_clusters = 10\n",
        "kmeans = KMeans(n_clusters=n_clusters, n_init='auto', random_state=123)\n",
        "kmeans.fit(embeddings)\n",
        "centers = kmeans.cluster_centers_"
      ]
    },
    {
      "cell_type": "markdown",
      "metadata": {
        "id": "sFLiNhQjNpO2"
      },
      "source": [
        "* クラスタの重心を保存。"
      ]
    },
    {
      "cell_type": "code",
      "execution_count": null,
      "metadata": {
        "id": "9AzNSATqPBIz"
      },
      "outputs": [],
      "source": [
        "with open(f'bert_centers_{n_clusters}.npy', 'wb') as f:\n",
        "  np.save(f, centers)"
      ]
    },
    {
      "cell_type": "code",
      "execution_count": null,
      "metadata": {
        "id": "FKZu_PGxVHeW"
      },
      "outputs": [],
      "source": [
        "with open(f'bert_centers_{n_clusters}.npy', 'rb') as f:\n",
        "  centers = np.load(f)"
      ]
    },
    {
      "cell_type": "markdown",
      "metadata": {
        "id": "SgtCM75KYSjZ"
      },
      "source": [
        "### クラスタのサイズを調べる"
      ]
    },
    {
      "cell_type": "markdown",
      "metadata": {
        "id": "7GC267ESgFqk"
      },
      "source": [
        "* クラスタのインデックスをキーとし、そのサイズを値とする辞書を作る。"
      ]
    },
    {
      "cell_type": "code",
      "execution_count": null,
      "metadata": {
        "id": "SEtINadMTpW_"
      },
      "outputs": [],
      "source": [
        "unique, counts = np.unique(kmeans.labels_, return_counts=True)\n",
        "size_dict = dict(zip(unique, counts))"
      ]
    },
    {
      "cell_type": "markdown",
      "metadata": {
        "id": "ROivZugMgOds"
      },
      "source": [
        "* 辞書のエントリを、キーではなく値でソートする。"
      ]
    },
    {
      "cell_type": "code",
      "execution_count": null,
      "metadata": {
        "id": "41h3OeM9ZF5d"
      },
      "outputs": [],
      "source": [
        "sorted_clusters = [k for k, v in sorted(size_dict.items(), key=lambda item: item[1], reverse=True)]"
      ]
    },
    {
      "cell_type": "code",
      "execution_count": null,
      "metadata": {
        "id": "5xZ3Fu1pZc-f"
      },
      "outputs": [],
      "source": [
        "counts[sorted_clusters]"
      ]
    },
    {
      "cell_type": "code",
      "execution_count": null,
      "metadata": {
        "id": "RiKgVVNyFm8y"
      },
      "outputs": [],
      "source": [
        "print(sorted_clusters)"
      ]
    },
    {
      "cell_type": "markdown",
      "metadata": {
        "id": "ns24Lg8YdVir"
      },
      "source": [
        "## クラスタのラベリング\n",
        "* 各クラスタの重心に近い20単語でラベリングする。"
      ]
    },
    {
      "cell_type": "code",
      "execution_count": null,
      "metadata": {
        "id": "fpaDwQsShEq5"
      },
      "outputs": [],
      "source": [
        "from sklearn.metrics.pairwise import cosine_similarity\n",
        "\n",
        "similarities = cosine_similarity(vocab_embeddings, centers)"
      ]
    },
    {
      "cell_type": "code",
      "execution_count": null,
      "metadata": {
        "id": "p37FojBHEVMu"
      },
      "outputs": [],
      "source": [
        "for i in range(similarities.shape[-1]):\n",
        "  indices = np.argsort(- similarities[:,i])\n",
        "  print(vocab[indices[:20]])"
      ]
    },
    {
      "cell_type": "code",
      "execution_count": null,
      "metadata": {
        "id": "hpwKrF-CFKgz"
      },
      "outputs": [],
      "source": []
    }
  ],
  "metadata": {
    "accelerator": "GPU",
    "colab": {
      "gpuType": "T4",
      "provenance": [],
      "include_colab_link": true
    },
    "kernelspec": {
      "display_name": "Python 3",
      "name": "python3"
    },
    "language_info": {
      "codemirror_mode": {
        "name": "ipython",
        "version": 3
      },
      "file_extension": ".py",
      "mimetype": "text/x-python",
      "name": "python",
      "nbconvert_exporter": "python",
      "pygments_lexer": "ipython3",
      "version": "3.11.7"
    }
  },
  "nbformat": 4,
  "nbformat_minor": 0
}